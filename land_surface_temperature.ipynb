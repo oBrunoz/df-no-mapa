{
  "nbformat": 4,
  "nbformat_minor": 0,
  "metadata": {
    "colab": {
      "provenance": [],
      "authorship_tag": "ABX9TyMt9jH5FBvvEq8RGU4X9adL",
      "include_colab_link": true
    },
    "kernelspec": {
      "name": "python3",
      "display_name": "Python 3"
    },
    "language_info": {
      "name": "python"
    }
  },
  "cells": [
    {
      "cell_type": "markdown",
      "metadata": {
        "id": "view-in-github",
        "colab_type": "text"
      },
      "source": [
        "<a href=\"https://colab.research.google.com/github/oBrunoz/df-no-mapa/blob/main/land_surface_temperature.ipynb\" target=\"_parent\"><img src=\"https://colab.research.google.com/assets/colab-badge.svg\" alt=\"Open In Colab\"/></a>"
      ]
    },
    {
      "cell_type": "code",
      "source": [
        "import ee\n",
        "import geemap.core as geemap\n",
        "\n",
        "# Autenticar o Earth Engine no Colab\n",
        "ee.Authenticate()\n",
        "ee.Initialize(project=\"ee-alencarbdev\")\n"
      ],
      "metadata": {
        "id": "gm-qvbw-pDxh",
        "colab": {
          "base_uri": "https://localhost:8080/",
          "height": 17
        },
        "outputId": "209144a0-a35c-4d1c-cfb3-5522c609a2d7"
      },
      "execution_count": 4,
      "outputs": [
        {
          "output_type": "display_data",
          "data": {
            "text/plain": [
              "<IPython.core.display.HTML object>"
            ],
            "text/html": [
              "\n",
              "            <style>\n",
              "                .geemap-dark {\n",
              "                    --jp-widgets-color: white;\n",
              "                    --jp-widgets-label-color: white;\n",
              "                    --jp-ui-font-color1: white;\n",
              "                    --jp-layout-color2: #454545;\n",
              "                    background-color: #383838;\n",
              "                }\n",
              "\n",
              "                .geemap-dark .jupyter-button {\n",
              "                    --jp-layout-color3: #383838;\n",
              "                }\n",
              "\n",
              "                .geemap-colab {\n",
              "                    background-color: var(--colab-primary-surface-color, white);\n",
              "                }\n",
              "\n",
              "                .geemap-colab .jupyter-button {\n",
              "                    --jp-layout-color3: var(--colab-primary-surface-color, white);\n",
              "                }\n",
              "            </style>\n",
              "            "
            ]
          },
          "metadata": {}
        }
      ]
    },
    {
      "cell_type": "code",
      "source": [
        "# Applies scaling factors\n",
        "def apply_scale_factors(image):\n",
        "    optical_bands = image.select('SR_B.').multiply(0.0000275).add(-0.2)\n",
        "    thermal_bands = image.select('ST_B.*').multiply(0.00341802).add(149.0)\n",
        "    return image.addBands(optical_bands, None, True).addBands(thermal_bands, None, True)\n",
        "\n",
        "# Function to Mask Clouds\n",
        "def cloud_mask(image):\n",
        "    cloud_shadow_bitmask = (1 << 3)\n",
        "    cloud_bitmask = (1 << 5)\n",
        "    qa = image.select('QA_PIXEL')\n",
        "    mask = qa.bitwiseAnd(cloud_shadow_bitmask).eq(0).And(\n",
        "            qa.bitwiseAnd(cloud_bitmask).eq(0))\n",
        "    return image.updateMask(mask)\n",
        "\n",
        "# Carrega os limites administrativos\n",
        "ra_df = ee.FeatureCollection('projects/ee-alencarbdev/assets/RA_DF_2025').filter(ee.Filter.eq('ra_codigo', 'RA-IX'))\n",
        "\n",
        "# Processa a imagem\n",
        "image = (ee.ImageCollection(\"LANDSAT/LC09/C02/T1_L2\")\n",
        "          .filterBounds(ra_df)\n",
        "          .filterDate('2023-01-01', '2023-12-31')\n",
        "          .map(apply_scale_factors)\n",
        "          .map(cloud_mask)\n",
        "          .median()\n",
        "          .clip(ra_df))\n",
        "\n",
        "ndvi = image.normalizedDifference(['SR_B5', 'SR_B4']).rename('NDVI')\n",
        "\n",
        "def calculate_min_and_max_ndvi():\n",
        "    stats = ndvi.reduceRegion(\n",
        "        reducer=ee.Reducer.minMax(),\n",
        "        geometry=ra_df.geometry(),\n",
        "        scale=30,\n",
        "        maxPixels=1e9\n",
        "    ).getInfo()\n",
        "\n",
        "    ndviMin = stats['NDVI_min']\n",
        "    ndviMax = stats['NDVI_max']\n",
        "\n",
        "    print(\"Minimum NDVI:\", ndviMin);\n",
        "    print(\"Maximum NDVI:\", ndviMax);\n",
        "\n",
        "    return ndviMin, ndviMax\n",
        "\n",
        "def ndvi_layer(image):\n",
        "    ndviPalette = {\n",
        "    'min': -1,\n",
        "    'max': 1,\n",
        "    'palette': ['blue', 'white', 'green']\n",
        "    };\n",
        "    return {'ndvi': ndvi, 'ndviPallete': ndviPalette}\n",
        "\n",
        "def thermal_layer(ndvi_min, ndvi_max):\n",
        "    fraction_of_vegetation = ((ndvi.subtract(ndvi_min)).divide(ndvi_max - ndvi_min)).pow(2).rename('FV')\n",
        "\n",
        "    land_surface_emissivity = fraction_of_vegetation.multiply(ee.Number(0.004)).add(ee.Number(0.986)).rename('EM')\n",
        "\n",
        "    thermal = image.select('ST_B10').rename('thermal')\n",
        "\n",
        "    land_surface_temperature = thermal.expression('(TB / (1 + (0.00115 * (TB / 1.438)) * log(em))) - 273.15', {'TB': thermal.select('thermal'), 'em': land_surface_emissivity}\n",
        "                                                  ).rename(f'Temperatura do solo do Distrito Federal - 2025')\n",
        "\n",
        "    return land_surface_temperature\n",
        "\n",
        "\n",
        "def get_landsat_image(start_date, end_date):\n",
        "    # Parâmetros de visualização (true color: bandas 4, 3, 2)\n",
        "    visualization = {\n",
        "        'bands': ['SR_B4', 'SR_B3', 'SR_B2'],\n",
        "        'min': 0.0,\n",
        "        'max': 0.15\n",
        "    }\n",
        "\n",
        "    # Obtém os parâmetros para visualização no frontend\n",
        "    map_info = image.getMapId(visualization)\n",
        "\n",
        "    return {\n",
        "        'mapid': map_info['mapid'],\n",
        "        'image': image,\n",
        "        'token': map_info['token'],\n",
        "        'visualization': visualization,\n",
        "        # 'bounds': ra_df.geometry().bounds().getInfo()['coordinates'],\n",
        "        'region_name': \"Distrito Federal\",\n",
        "        'dates': {'start': start_date, 'end': end_date}\n",
        "    }\n",
        "\n",
        "landsat_value = get_landsat_image('2023-01-01', '2023-12-31')\n",
        "ndvi_value = ndvi_layer(landsat_value['image'])\n",
        "ndvi_min, ndvi_max = calculate_min_and_max_ndvi()\n",
        "thermal_value = thermal_layer(ndvi_min, ndvi_max)\n",
        "ground_cover = ee.FeatureCollection('projects/ee-alencarbdev/assets/COBERTURA_SOLO_DF_2019')\n",
        "\n",
        "map = geemap.Map(center=[-15.8, -47.9], zoom=12)\n",
        "\n",
        "# MAPA DO LANDSAT\n",
        "map.add_layer(landsat_value['image'], landsat_value['visualization'], 'Landsat')\n",
        "\n",
        "# MAPA DE NDVI\n",
        "map.add_layer(ndvi_value['ndvi'], ndvi_value['ndviPallete'], 'NDVI')\n",
        "\n",
        "# MAPA DE TEMPERATURA\n",
        "map.add_layer(thermal_value, {\n",
        "    \"min\": 18.47,\n",
        "    \"max\": 42.86,\n",
        "    \"palette\": [\n",
        "      '040274', '040281', '0502a3', '0502b8', '0502ce', '0502e6',\n",
        "      '0602ff', '235cb1', '307ef3', '269db1', '30c8e2', '32d3ef',\n",
        "      '3be285', '3ff38f', '86e26f', '3ae237', 'b5e22e', 'd6e21f',\n",
        "      'fff705', 'ffd611', 'ffb613', 'ff8b13', 'ff6e08', 'ff500d',\n",
        "      'ff0000', 'de0101', 'c21301', 'a71001', '911003'\n",
        "    ]\n",
        "}, 'Temperatura do solo - ' + str(2025) + ' - Distrito Federal');\n",
        "\n",
        "# MAPA DE COBERTURA DO SOLO\n",
        "map.add_layer(ground_cover, {\"color\": \"orange\"}, \"Cobertura do Solo\")\n",
        "\n",
        "map"
      ],
      "metadata": {
        "id": "CD4OyrtfqDsa",
        "colab": {
          "base_uri": "https://localhost:8080/",
          "height": 460
        },
        "outputId": "570bea13-1ab4-4a0b-d781-16c86be3ff47"
      },
      "execution_count": 37,
      "outputs": [
        {
          "output_type": "display_data",
          "data": {
            "text/plain": [
              "<IPython.core.display.HTML object>"
            ],
            "text/html": [
              "\n",
              "            <style>\n",
              "                .geemap-dark {\n",
              "                    --jp-widgets-color: white;\n",
              "                    --jp-widgets-label-color: white;\n",
              "                    --jp-ui-font-color1: white;\n",
              "                    --jp-layout-color2: #454545;\n",
              "                    background-color: #383838;\n",
              "                }\n",
              "\n",
              "                .geemap-dark .jupyter-button {\n",
              "                    --jp-layout-color3: #383838;\n",
              "                }\n",
              "\n",
              "                .geemap-colab {\n",
              "                    background-color: var(--colab-primary-surface-color, white);\n",
              "                }\n",
              "\n",
              "                .geemap-colab .jupyter-button {\n",
              "                    --jp-layout-color3: var(--colab-primary-surface-color, white);\n",
              "                }\n",
              "            </style>\n",
              "            "
            ]
          },
          "metadata": {}
        },
        {
          "output_type": "stream",
          "name": "stdout",
          "text": [
            "Minimum NDVI: -0.9991615427613199\n",
            "Maximum NDVI: 0.9080725767105766\n"
          ]
        },
        {
          "output_type": "error",
          "ename": "EEException",
          "evalue": "Collection.loadTable: Collection asset 'projects/ee-alencarbdev/assets/COBERTURA_SOLO_DF_2019' not found.",
          "traceback": [
            "\u001b[0;31m---------------------------------------------------------------------------\u001b[0m",
            "\u001b[0;31mHttpError\u001b[0m                                 Traceback (most recent call last)",
            "\u001b[0;32m/usr/local/lib/python3.11/dist-packages/ee/data.py\u001b[0m in \u001b[0;36m_execute_cloud_call\u001b[0;34m(call, num_retries)\u001b[0m\n\u001b[1;32m    407\u001b[0m   \u001b[0;32mtry\u001b[0m\u001b[0;34m:\u001b[0m\u001b[0;34m\u001b[0m\u001b[0;34m\u001b[0m\u001b[0m\n\u001b[0;32m--> 408\u001b[0;31m     \u001b[0;32mreturn\u001b[0m \u001b[0mcall\u001b[0m\u001b[0;34m.\u001b[0m\u001b[0mexecute\u001b[0m\u001b[0;34m(\u001b[0m\u001b[0mnum_retries\u001b[0m\u001b[0;34m=\u001b[0m\u001b[0mnum_retries\u001b[0m\u001b[0;34m)\u001b[0m\u001b[0;34m\u001b[0m\u001b[0;34m\u001b[0m\u001b[0m\n\u001b[0m\u001b[1;32m    409\u001b[0m   \u001b[0;32mexcept\u001b[0m \u001b[0mgoogleapiclient\u001b[0m\u001b[0;34m.\u001b[0m\u001b[0merrors\u001b[0m\u001b[0;34m.\u001b[0m\u001b[0mHttpError\u001b[0m \u001b[0;32mas\u001b[0m \u001b[0me\u001b[0m\u001b[0;34m:\u001b[0m\u001b[0;34m\u001b[0m\u001b[0;34m\u001b[0m\u001b[0m\n",
            "\u001b[0;32m/usr/local/lib/python3.11/dist-packages/googleapiclient/_helpers.py\u001b[0m in \u001b[0;36mpositional_wrapper\u001b[0;34m(*args, **kwargs)\u001b[0m\n\u001b[1;32m    129\u001b[0m                     \u001b[0mlogger\u001b[0m\u001b[0;34m.\u001b[0m\u001b[0mwarning\u001b[0m\u001b[0;34m(\u001b[0m\u001b[0mmessage\u001b[0m\u001b[0;34m)\u001b[0m\u001b[0;34m\u001b[0m\u001b[0;34m\u001b[0m\u001b[0m\n\u001b[0;32m--> 130\u001b[0;31m             \u001b[0;32mreturn\u001b[0m \u001b[0mwrapped\u001b[0m\u001b[0;34m(\u001b[0m\u001b[0;34m*\u001b[0m\u001b[0margs\u001b[0m\u001b[0;34m,\u001b[0m \u001b[0;34m**\u001b[0m\u001b[0mkwargs\u001b[0m\u001b[0;34m)\u001b[0m\u001b[0;34m\u001b[0m\u001b[0;34m\u001b[0m\u001b[0m\n\u001b[0m\u001b[1;32m    131\u001b[0m \u001b[0;34m\u001b[0m\u001b[0m\n",
            "\u001b[0;32m/usr/local/lib/python3.11/dist-packages/googleapiclient/http.py\u001b[0m in \u001b[0;36mexecute\u001b[0;34m(self, http, num_retries)\u001b[0m\n\u001b[1;32m    937\u001b[0m         \u001b[0;32mif\u001b[0m \u001b[0mresp\u001b[0m\u001b[0;34m.\u001b[0m\u001b[0mstatus\u001b[0m \u001b[0;34m>=\u001b[0m \u001b[0;36m300\u001b[0m\u001b[0;34m:\u001b[0m\u001b[0;34m\u001b[0m\u001b[0;34m\u001b[0m\u001b[0m\n\u001b[0;32m--> 938\u001b[0;31m             \u001b[0;32mraise\u001b[0m \u001b[0mHttpError\u001b[0m\u001b[0;34m(\u001b[0m\u001b[0mresp\u001b[0m\u001b[0;34m,\u001b[0m \u001b[0mcontent\u001b[0m\u001b[0;34m,\u001b[0m \u001b[0muri\u001b[0m\u001b[0;34m=\u001b[0m\u001b[0mself\u001b[0m\u001b[0;34m.\u001b[0m\u001b[0muri\u001b[0m\u001b[0;34m)\u001b[0m\u001b[0;34m\u001b[0m\u001b[0;34m\u001b[0m\u001b[0m\n\u001b[0m\u001b[1;32m    939\u001b[0m         \u001b[0;32mreturn\u001b[0m \u001b[0mself\u001b[0m\u001b[0;34m.\u001b[0m\u001b[0mpostproc\u001b[0m\u001b[0;34m(\u001b[0m\u001b[0mresp\u001b[0m\u001b[0;34m,\u001b[0m \u001b[0mcontent\u001b[0m\u001b[0;34m)\u001b[0m\u001b[0;34m\u001b[0m\u001b[0;34m\u001b[0m\u001b[0m\n",
            "\u001b[0;31mHttpError\u001b[0m: <HttpError 400 when requesting https://earthengine.googleapis.com/v1/projects/ee-alencarbdev/maps?fields=name&alt=json returned \"Collection.loadTable: Collection asset 'projects/ee-alencarbdev/assets/COBERTURA_SOLO_DF_2019' not found.\". Details: \"Collection.loadTable: Collection asset 'projects/ee-alencarbdev/assets/COBERTURA_SOLO_DF_2019' not found.\">",
            "\nDuring handling of the above exception, another exception occurred:\n",
            "\u001b[0;31mEEException\u001b[0m                               Traceback (most recent call last)",
            "\u001b[0;32m<ipython-input-37-cd0334b2c888>\u001b[0m in \u001b[0;36m<cell line: 0>\u001b[0;34m()\u001b[0m\n\u001b[1;32m    114\u001b[0m \u001b[0;34m\u001b[0m\u001b[0m\n\u001b[1;32m    115\u001b[0m \u001b[0;31m# MAPA DE COBERTURA DO SOLO\u001b[0m\u001b[0;34m\u001b[0m\u001b[0;34m\u001b[0m\u001b[0m\n\u001b[0;32m--> 116\u001b[0;31m \u001b[0mmap\u001b[0m\u001b[0;34m.\u001b[0m\u001b[0madd_layer\u001b[0m\u001b[0;34m(\u001b[0m\u001b[0mground_cover\u001b[0m\u001b[0;34m,\u001b[0m \u001b[0;34m{\u001b[0m\u001b[0;34m\"color\"\u001b[0m\u001b[0;34m:\u001b[0m \u001b[0;34m\"orange\"\u001b[0m\u001b[0;34m}\u001b[0m\u001b[0;34m,\u001b[0m \u001b[0;34m\"Cobertura do Solo\"\u001b[0m\u001b[0;34m)\u001b[0m\u001b[0;34m\u001b[0m\u001b[0;34m\u001b[0m\u001b[0m\n\u001b[0m\u001b[1;32m    117\u001b[0m \u001b[0;34m\u001b[0m\u001b[0m\n\u001b[1;32m    118\u001b[0m \u001b[0mmap\u001b[0m\u001b[0;34m\u001b[0m\u001b[0;34m\u001b[0m\u001b[0m\n",
            "\u001b[0;32m/usr/local/lib/python3.11/dist-packages/geemap/core.py\u001b[0m in \u001b[0;36madd_layer\u001b[0;34m(self, ee_object, vis_params, name, shown, opacity)\u001b[0m\n\u001b[1;32m   1136\u001b[0m         \u001b[0;32mif\u001b[0m \u001b[0misinstance\u001b[0m\u001b[0;34m(\u001b[0m\u001b[0mee_object\u001b[0m\u001b[0;34m,\u001b[0m \u001b[0mee\u001b[0m\u001b[0;34m.\u001b[0m\u001b[0mImageCollection\u001b[0m\u001b[0;34m)\u001b[0m\u001b[0;34m:\u001b[0m\u001b[0;34m\u001b[0m\u001b[0;34m\u001b[0m\u001b[0m\n\u001b[1;32m   1137\u001b[0m             \u001b[0mee_object\u001b[0m \u001b[0;34m=\u001b[0m \u001b[0mee_object\u001b[0m\u001b[0;34m.\u001b[0m\u001b[0mmosaic\u001b[0m\u001b[0;34m(\u001b[0m\u001b[0;34m)\u001b[0m\u001b[0;34m\u001b[0m\u001b[0;34m\u001b[0m\u001b[0m\n\u001b[0;32m-> 1138\u001b[0;31m         tile_layer = ee_tile_layers.EELeafletTileLayer(\n\u001b[0m\u001b[1;32m   1139\u001b[0m             \u001b[0mee_object\u001b[0m\u001b[0;34m,\u001b[0m \u001b[0mvis_params\u001b[0m\u001b[0;34m,\u001b[0m \u001b[0mname\u001b[0m\u001b[0;34m,\u001b[0m \u001b[0mshown\u001b[0m\u001b[0;34m,\u001b[0m \u001b[0mopacity\u001b[0m\u001b[0;34m\u001b[0m\u001b[0;34m\u001b[0m\u001b[0m\n\u001b[1;32m   1140\u001b[0m         )\n",
            "\u001b[0;32m/usr/local/lib/python3.11/dist-packages/geemap/ee_tile_layers.py\u001b[0m in \u001b[0;36m__init__\u001b[0;34m(self, ee_object, vis_params, name, shown, opacity, **kwargs)\u001b[0m\n\u001b[1;32m    204\u001b[0m         \"\"\"\n\u001b[1;32m    205\u001b[0m         \u001b[0mself\u001b[0m\u001b[0;34m.\u001b[0m\u001b[0m_ee_object\u001b[0m \u001b[0;34m=\u001b[0m \u001b[0mee_object\u001b[0m\u001b[0;34m\u001b[0m\u001b[0;34m\u001b[0m\u001b[0m\n\u001b[0;32m--> 206\u001b[0;31m         self.url_format = _get_tile_url_format(\n\u001b[0m\u001b[1;32m    207\u001b[0m             \u001b[0mee_object\u001b[0m\u001b[0;34m,\u001b[0m \u001b[0m_validate_vis_params\u001b[0m\u001b[0;34m(\u001b[0m\u001b[0mvis_params\u001b[0m\u001b[0;34m)\u001b[0m\u001b[0;34m\u001b[0m\u001b[0;34m\u001b[0m\u001b[0m\n\u001b[1;32m    208\u001b[0m         )\n",
            "\u001b[0;32m/usr/local/lib/python3.11/dist-packages/geemap/ee_tile_layers.py\u001b[0m in \u001b[0;36m_get_tile_url_format\u001b[0;34m(ee_object, vis_params)\u001b[0m\n\u001b[1;32m     34\u001b[0m     \"\"\"\n\u001b[1;32m     35\u001b[0m     \u001b[0mimage\u001b[0m \u001b[0;34m=\u001b[0m \u001b[0m_ee_object_to_image\u001b[0m\u001b[0;34m(\u001b[0m\u001b[0mee_object\u001b[0m\u001b[0;34m,\u001b[0m \u001b[0mvis_params\u001b[0m\u001b[0;34m)\u001b[0m\u001b[0;34m\u001b[0m\u001b[0;34m\u001b[0m\u001b[0m\n\u001b[0;32m---> 36\u001b[0;31m     \u001b[0mmap_id_dict\u001b[0m \u001b[0;34m=\u001b[0m \u001b[0mee\u001b[0m\u001b[0;34m.\u001b[0m\u001b[0mImage\u001b[0m\u001b[0;34m(\u001b[0m\u001b[0mimage\u001b[0m\u001b[0;34m)\u001b[0m\u001b[0;34m.\u001b[0m\u001b[0mgetMapId\u001b[0m\u001b[0;34m(\u001b[0m\u001b[0mvis_params\u001b[0m\u001b[0;34m)\u001b[0m\u001b[0;34m\u001b[0m\u001b[0;34m\u001b[0m\u001b[0m\n\u001b[0m\u001b[1;32m     37\u001b[0m     \u001b[0;32mreturn\u001b[0m \u001b[0mmap_id_dict\u001b[0m\u001b[0;34m[\u001b[0m\u001b[0;34m\"tile_fetcher\"\u001b[0m\u001b[0;34m]\u001b[0m\u001b[0;34m.\u001b[0m\u001b[0murl_format\u001b[0m\u001b[0;34m\u001b[0m\u001b[0;34m\u001b[0m\u001b[0m\n\u001b[1;32m     38\u001b[0m \u001b[0;34m\u001b[0m\u001b[0m\n",
            "\u001b[0;32m/usr/local/lib/python3.11/dist-packages/ee/image.py\u001b[0m in \u001b[0;36mgetMapId\u001b[0;34m(self, vis_params)\u001b[0m\n\u001b[1;32m    154\u001b[0m     \u001b[0mvis_image\u001b[0m\u001b[0;34m,\u001b[0m \u001b[0mrequest\u001b[0m \u001b[0;34m=\u001b[0m \u001b[0mself\u001b[0m\u001b[0;34m.\u001b[0m\u001b[0m_apply_visualization\u001b[0m\u001b[0;34m(\u001b[0m\u001b[0mvis_params\u001b[0m\u001b[0;34m)\u001b[0m\u001b[0;34m\u001b[0m\u001b[0;34m\u001b[0m\u001b[0m\n\u001b[1;32m    155\u001b[0m     \u001b[0mrequest\u001b[0m\u001b[0;34m[\u001b[0m\u001b[0;34m'image'\u001b[0m\u001b[0;34m]\u001b[0m \u001b[0;34m=\u001b[0m \u001b[0mvis_image\u001b[0m\u001b[0;34m\u001b[0m\u001b[0;34m\u001b[0m\u001b[0m\n\u001b[0;32m--> 156\u001b[0;31m     \u001b[0mresponse\u001b[0m \u001b[0;34m=\u001b[0m \u001b[0mdata\u001b[0m\u001b[0;34m.\u001b[0m\u001b[0mgetMapId\u001b[0m\u001b[0;34m(\u001b[0m\u001b[0mrequest\u001b[0m\u001b[0;34m)\u001b[0m\u001b[0;34m\u001b[0m\u001b[0;34m\u001b[0m\u001b[0m\n\u001b[0m\u001b[1;32m    157\u001b[0m     \u001b[0mresponse\u001b[0m\u001b[0;34m[\u001b[0m\u001b[0;34m'image'\u001b[0m\u001b[0;34m]\u001b[0m \u001b[0;34m=\u001b[0m \u001b[0mself\u001b[0m\u001b[0;34m\u001b[0m\u001b[0;34m\u001b[0m\u001b[0m\n\u001b[1;32m    158\u001b[0m     \u001b[0;32mreturn\u001b[0m \u001b[0mresponse\u001b[0m\u001b[0;34m\u001b[0m\u001b[0;34m\u001b[0m\u001b[0m\n",
            "\u001b[0;32m/usr/local/lib/python3.11/dist-packages/ee/data.py\u001b[0m in \u001b[0;36mgetMapId\u001b[0;34m(params)\u001b[0m\n\u001b[1;32m    748\u001b[0m   }\n\u001b[1;32m    749\u001b[0m   \u001b[0m_maybe_populate_workload_tag\u001b[0m\u001b[0;34m(\u001b[0m\u001b[0mqueryParams\u001b[0m\u001b[0;34m)\u001b[0m\u001b[0;34m\u001b[0m\u001b[0;34m\u001b[0m\u001b[0m\n\u001b[0;32m--> 750\u001b[0;31m   result = _execute_cloud_call(\n\u001b[0m\u001b[1;32m    751\u001b[0m       \u001b[0m_get_cloud_projects\u001b[0m\u001b[0;34m(\u001b[0m\u001b[0;34m)\u001b[0m\u001b[0;34m\u001b[0m\u001b[0;34m\u001b[0m\u001b[0m\n\u001b[1;32m    752\u001b[0m       \u001b[0;34m.\u001b[0m\u001b[0mmaps\u001b[0m\u001b[0;34m(\u001b[0m\u001b[0;34m)\u001b[0m\u001b[0;34m\u001b[0m\u001b[0;34m\u001b[0m\u001b[0m\n",
            "\u001b[0;32m/usr/local/lib/python3.11/dist-packages/ee/data.py\u001b[0m in \u001b[0;36m_execute_cloud_call\u001b[0;34m(call, num_retries)\u001b[0m\n\u001b[1;32m    408\u001b[0m     \u001b[0;32mreturn\u001b[0m \u001b[0mcall\u001b[0m\u001b[0;34m.\u001b[0m\u001b[0mexecute\u001b[0m\u001b[0;34m(\u001b[0m\u001b[0mnum_retries\u001b[0m\u001b[0;34m=\u001b[0m\u001b[0mnum_retries\u001b[0m\u001b[0;34m)\u001b[0m\u001b[0;34m\u001b[0m\u001b[0;34m\u001b[0m\u001b[0m\n\u001b[1;32m    409\u001b[0m   \u001b[0;32mexcept\u001b[0m \u001b[0mgoogleapiclient\u001b[0m\u001b[0;34m.\u001b[0m\u001b[0merrors\u001b[0m\u001b[0;34m.\u001b[0m\u001b[0mHttpError\u001b[0m \u001b[0;32mas\u001b[0m \u001b[0me\u001b[0m\u001b[0;34m:\u001b[0m\u001b[0;34m\u001b[0m\u001b[0;34m\u001b[0m\u001b[0m\n\u001b[0;32m--> 410\u001b[0;31m     \u001b[0;32mraise\u001b[0m \u001b[0m_translate_cloud_exception\u001b[0m\u001b[0;34m(\u001b[0m\u001b[0me\u001b[0m\u001b[0;34m)\u001b[0m  \u001b[0;31m# pylint: disable=raise-missing-from\u001b[0m\u001b[0;34m\u001b[0m\u001b[0;34m\u001b[0m\u001b[0m\n\u001b[0m\u001b[1;32m    411\u001b[0m \u001b[0;34m\u001b[0m\u001b[0m\n\u001b[1;32m    412\u001b[0m \u001b[0;34m\u001b[0m\u001b[0m\n",
            "\u001b[0;31mEEException\u001b[0m: Collection.loadTable: Collection asset 'projects/ee-alencarbdev/assets/COBERTURA_SOLO_DF_2019' not found."
          ]
        }
      ]
    },
    {
      "cell_type": "code",
      "source": [
        "import pandas as pd\n",
        "\n",
        "def get_stats(image, band_name, region, scale=30):\n",
        "    reducer = ee.Reducer.mean().combine(ee.Reducer.min(), '', True).combine(ee.Reducer.max(), '', True)\n",
        "    stats = image.select(band_name).reduceRegion(\n",
        "        reducer=reducer,\n",
        "        geometry=region.geometry(),\n",
        "        scale=scale,\n",
        "        maxPixels=1e9\n",
        "    )\n",
        "    return stats.getInfo()\n",
        "\n",
        "ceilandia = ra_df.filter(ee.Filter.eq('ra_codigo', 'RA-IX')).first()\n",
        "# planaltina = ra_df.filter(ee.Filter.eq('ra_codigo', 'RA-VI'))\n",
        "\n",
        "# Aplica as estatísticas para NDVI e Temperatura\n",
        "ndvi_stats = get_stats(ndvi, 'NDVI', ceilandia)\n",
        "thermal_stats = get_stats(thermal_value, thermal_value.bandNames().getInfo()[0], ceilandia)\n",
        "\n",
        "# Monta o DataFrame\n",
        "data = {\n",
        "    'Região': ['Ceilândia'],\n",
        "    'NDVI_Médio': [ndvi_stats.get('NDVI_mean')],\n",
        "    'NDVI_Mínimo': [ndvi_stats.get('NDVI_min')],\n",
        "    'NDVI_Máximo': [ndvi_stats.get('NDVI_max')],\n",
        "    'Temp_Média': [thermal_stats.get('{}_mean'.format(thermal_value.bandNames().getInfo()[0]))],\n",
        "    'Temp_Mínima': [thermal_stats.get('{}_min'.format(thermal_value.bandNames().getInfo()[0]))],\n",
        "    'Temp_Máxima': [thermal_stats.get('{}_max'.format(thermal_value.bandNames().getInfo()[0]))],\n",
        "}\n",
        "\n",
        "df = pd.DataFrame(data)\n",
        "print(df)"
      ],
      "metadata": {
        "colab": {
          "base_uri": "https://localhost:8080/",
          "height": 104
        },
        "id": "XvLiEQFbOBpD",
        "outputId": "fd5a2e9c-4b6b-4441-b014-1ac37fca9094"
      },
      "execution_count": 36,
      "outputs": [
        {
          "output_type": "display_data",
          "data": {
            "text/plain": [
              "<IPython.core.display.HTML object>"
            ],
            "text/html": [
              "\n",
              "            <style>\n",
              "                .geemap-dark {\n",
              "                    --jp-widgets-color: white;\n",
              "                    --jp-widgets-label-color: white;\n",
              "                    --jp-ui-font-color1: white;\n",
              "                    --jp-layout-color2: #454545;\n",
              "                    background-color: #383838;\n",
              "                }\n",
              "\n",
              "                .geemap-dark .jupyter-button {\n",
              "                    --jp-layout-color3: #383838;\n",
              "                }\n",
              "\n",
              "                .geemap-colab {\n",
              "                    background-color: var(--colab-primary-surface-color, white);\n",
              "                }\n",
              "\n",
              "                .geemap-colab .jupyter-button {\n",
              "                    --jp-layout-color3: var(--colab-primary-surface-color, white);\n",
              "                }\n",
              "            </style>\n",
              "            "
            ]
          },
          "metadata": {}
        },
        {
          "output_type": "stream",
          "name": "stdout",
          "text": [
            "      Região  NDVI_Médio  NDVI_Mínimo  NDVI_Máximo  Temp_Média  Temp_Mínima  \\\n",
            "0  Ceilândia    0.479923    -0.999216     0.908073   32.618036    24.394269   \n",
            "\n",
            "   Temp_Máxima  \n",
            "0    41.019719  \n"
          ]
        }
      ]
    },
    {
      "cell_type": "markdown",
      "source": [
        "# Organização em Classe"
      ],
      "metadata": {
        "id": "HDP06sl1B1o7"
      }
    },
    {
      "cell_type": "code",
      "source": [
        "import ee\n",
        "import geemap.core as geemap\n",
        "\n",
        "class LandsatProcessor:\n",
        "    def __init__(self, region_name=\"Distrito Federal\", year=2023):\n",
        "        ee.Authenticate()\n",
        "        ee.Initialize(project=\"ee-alencarbdev\")\n",
        "        self.region_name = region_name\n",
        "        self.year = year\n",
        "        self.region = self._load_region()\n",
        "        self.image = self._process_image()\n",
        "        self.ndvi = self.image.normalizedDifference(['SR_B5', 'SR_B4']).rename('NDVI')\n",
        "        self.ndvi_min, self.ndvi_max = self._calculate_min_and_max_ndvi()\n",
        "        self.thermal = self._calculate_thermal_layer()\n",
        "\n",
        "    def _load_region(self):\n",
        "        return ee.FeatureCollection('FAO/GAUL/2015/level1') \\\n",
        "                 .filter(ee.Filter.eq('ADM1_NAME', self.region_name))\n",
        "\n",
        "    def _apply_scale_factors(self, image):\n",
        "        optical = image.select('SR_B.').multiply(0.0000275).add(-0.2)\n",
        "        thermal = image.select('ST_B.*').multiply(0.00341802).add(149.0)\n",
        "        return image.addBands(optical, None, True).addBands(thermal, None, True)\n",
        "\n",
        "    def _cloud_mask(self, image):\n",
        "        cloud_shadow = (1 << 3)\n",
        "        cloud = (1 << 5)\n",
        "        qa = image.select('QA_PIXEL')\n",
        "        mask = qa.bitwiseAnd(cloud_shadow).eq(0).And(\n",
        "               qa.bitwiseAnd(cloud).eq(0))\n",
        "        return image.updateMask(mask)\n",
        "\n",
        "    def _process_image(self):\n",
        "        return (ee.ImageCollection(\"LANDSAT/LC09/C02/T1_L2\")\n",
        "                  .filterBounds(self.region)\n",
        "                  .filterDate(f'{self.year}-01-01', f'{self.year}-12-31')\n",
        "                  .map(self._apply_scale_factors)\n",
        "                  .map(self._cloud_mask)\n",
        "                  .median()\n",
        "                  .clip(self.region))\n",
        "\n",
        "    def _calculate_min_and_max_ndvi(self):\n",
        "        stats = self.ndvi.reduceRegion(\n",
        "            reducer=ee.Reducer.minMax(),\n",
        "            geometry=self.region.geometry(),\n",
        "            scale=30,\n",
        "            maxPixels=1e9\n",
        "        ).getInfo()\n",
        "\n",
        "        print(\"Minimum NDVI:\", stats['NDVI_min'])\n",
        "        print(\"Maximum NDVI:\", stats['NDVI_max'])\n",
        "        return stats['NDVI_min'], stats['NDVI_max']\n",
        "\n",
        "    def get_landsat_layer(self):\n",
        "        vis = {\n",
        "            'bands': ['SR_B4', 'SR_B3', 'SR_B2'],\n",
        "            'min': 0.0,\n",
        "            'max': 0.15\n",
        "        }\n",
        "        map_info = self.image.getMapId(vis)\n",
        "        return {\n",
        "            'mapid': map_info['mapid'],\n",
        "            'image': self.image,\n",
        "            'token': map_info['token'],\n",
        "            'visualization': vis,\n",
        "            'bounds': self.region.geometry().bounds().getInfo()['coordinates'],\n",
        "            'region_name': self.region_name,\n",
        "            'dates': {'start': f'{self.year}-01-01', 'end': f'{self.year}-12-31'}\n",
        "        }\n",
        "\n",
        "    def get_ndvi_layer(self):\n",
        "        return {\n",
        "            'ndvi': self.ndvi,\n",
        "            'ndviPallete': {\n",
        "                'min': -1,\n",
        "                'max': 1,\n",
        "                'palette': ['blue', 'white', 'green']\n",
        "            }\n",
        "        }\n",
        "\n",
        "    def _calculate_thermal_layer(self):\n",
        "        fv = ((self.ndvi.subtract(self.ndvi_min))\n",
        "              .divide(self.ndvi_max - self.ndvi_min)).pow(2).rename('FV')\n",
        "        em = fv.multiply(ee.Number(0.004)).add(ee.Number(0.986)).rename('EM')\n",
        "        thermal = self.image.select('ST_B10').rename('thermal')\n",
        "        lst = thermal.expression(\n",
        "            '(TB / (1 + (0.00115 * (TB / 1.438)) * log(em))) - 273.15',\n",
        "            {'TB': thermal, 'em': em}\n",
        "        ).rename(f'Temperatura do solo do {self.region_name} - {self.year}')\n",
        "        return lst\n",
        "\n",
        "    def get_thermal_layer(self):\n",
        "        return {\n",
        "            'layer': self.thermal,\n",
        "            'vis_params': {\n",
        "                \"min\": 18.47,\n",
        "                \"max\": 42.86,\n",
        "                \"palette\": [\n",
        "                    '040274', '040281', '0502a3', '0502b8', '0502ce', '0502e6',\n",
        "                    '0602ff', '235cb1', '307ef3', '269db1', '30c8e2', '32d3ef',\n",
        "                    '3be285', '3ff38f', '86e26f', '3ae237', 'b5e22e', 'd6e21f',\n",
        "                    'fff705', 'ffd611', 'ffb613', 'ff8b13', 'ff6e08', 'ff500d',\n",
        "                    'ff0000', 'de0101', 'c21301', 'a71001', '911003'\n",
        "                ]\n",
        "            },\n",
        "            'name': f'Temperatura do solo - {self.year} - {self.region_name}'\n",
        "        }\n",
        "\n",
        "    def visualize(self):\n",
        "        m = geemap.Map(center=[-15.8, -47.9], zoom=12)\n",
        "\n",
        "        landsat = self.get_landsat_layer()\n",
        "        ndvi = self.get_ndvi_layer()\n",
        "        thermal = self.get_thermal_layer()\n",
        "\n",
        "        m.add_layer(landsat['image'], landsat['visualization'], 'Landsat')\n",
        "        m.add_layer(ndvi['ndvi'], ndvi['ndviPallete'], 'NDVI')\n",
        "        m.add_layer(thermal['layer'], thermal['vis_params'], thermal['name'])\n",
        "\n",
        "        return m\n"
      ],
      "metadata": {
        "id": "dIZR6u2dzA-x",
        "colab": {
          "base_uri": "https://localhost:8080/",
          "height": 17
        },
        "outputId": "166a0ed7-7bc0-46c3-cc62-00fec2887a4c"
      },
      "execution_count": 9,
      "outputs": [
        {
          "output_type": "display_data",
          "data": {
            "text/plain": [
              "<IPython.core.display.HTML object>"
            ],
            "text/html": [
              "\n",
              "            <style>\n",
              "                .geemap-dark {\n",
              "                    --jp-widgets-color: white;\n",
              "                    --jp-widgets-label-color: white;\n",
              "                    --jp-ui-font-color1: white;\n",
              "                    --jp-layout-color2: #454545;\n",
              "                    background-color: #383838;\n",
              "                }\n",
              "\n",
              "                .geemap-dark .jupyter-button {\n",
              "                    --jp-layout-color3: #383838;\n",
              "                }\n",
              "\n",
              "                .geemap-colab {\n",
              "                    background-color: var(--colab-primary-surface-color, white);\n",
              "                }\n",
              "\n",
              "                .geemap-colab .jupyter-button {\n",
              "                    --jp-layout-color3: var(--colab-primary-surface-color, white);\n",
              "                }\n",
              "            </style>\n",
              "            "
            ]
          },
          "metadata": {}
        }
      ]
    },
    {
      "cell_type": "code",
      "source": [
        "processor = LandsatProcessor(region_name=\"Distrito Federal\", year=2025)\n",
        "mapa = processor.visualize()\n",
        "mapa"
      ],
      "metadata": {
        "colab": {
          "base_uri": "https://localhost:8080/",
          "height": 426
        },
        "id": "U4CTnJrgsoLb",
        "outputId": "090b3bf0-d495-4b5c-c4a4-cc4769ce5b43"
      },
      "execution_count": 10,
      "outputs": [
        {
          "output_type": "display_data",
          "data": {
            "text/plain": [
              "<IPython.core.display.HTML object>"
            ],
            "text/html": [
              "\n",
              "            <style>\n",
              "                .geemap-dark {\n",
              "                    --jp-widgets-color: white;\n",
              "                    --jp-widgets-label-color: white;\n",
              "                    --jp-ui-font-color1: white;\n",
              "                    --jp-layout-color2: #454545;\n",
              "                    background-color: #383838;\n",
              "                }\n",
              "\n",
              "                .geemap-dark .jupyter-button {\n",
              "                    --jp-layout-color3: #383838;\n",
              "                }\n",
              "\n",
              "                .geemap-colab {\n",
              "                    background-color: var(--colab-primary-surface-color, white);\n",
              "                }\n",
              "\n",
              "                .geemap-colab .jupyter-button {\n",
              "                    --jp-layout-color3: var(--colab-primary-surface-color, white);\n",
              "                }\n",
              "            </style>\n",
              "            "
            ]
          },
          "metadata": {}
        },
        {
          "output_type": "error",
          "ename": "EEException",
          "evalue": "Image.normalizedDifference: No band named 'SR_B5'. Available band names: [].",
          "traceback": [
            "\u001b[0;31m---------------------------------------------------------------------------\u001b[0m",
            "\u001b[0;31mHttpError\u001b[0m                                 Traceback (most recent call last)",
            "\u001b[0;32m/usr/local/lib/python3.11/dist-packages/ee/data.py\u001b[0m in \u001b[0;36m_execute_cloud_call\u001b[0;34m(call, num_retries)\u001b[0m\n\u001b[1;32m    407\u001b[0m   \u001b[0;32mtry\u001b[0m\u001b[0;34m:\u001b[0m\u001b[0;34m\u001b[0m\u001b[0;34m\u001b[0m\u001b[0m\n\u001b[0;32m--> 408\u001b[0;31m     \u001b[0;32mreturn\u001b[0m \u001b[0mcall\u001b[0m\u001b[0;34m.\u001b[0m\u001b[0mexecute\u001b[0m\u001b[0;34m(\u001b[0m\u001b[0mnum_retries\u001b[0m\u001b[0;34m=\u001b[0m\u001b[0mnum_retries\u001b[0m\u001b[0;34m)\u001b[0m\u001b[0;34m\u001b[0m\u001b[0;34m\u001b[0m\u001b[0m\n\u001b[0m\u001b[1;32m    409\u001b[0m   \u001b[0;32mexcept\u001b[0m \u001b[0mgoogleapiclient\u001b[0m\u001b[0;34m.\u001b[0m\u001b[0merrors\u001b[0m\u001b[0;34m.\u001b[0m\u001b[0mHttpError\u001b[0m \u001b[0;32mas\u001b[0m \u001b[0me\u001b[0m\u001b[0;34m:\u001b[0m\u001b[0;34m\u001b[0m\u001b[0;34m\u001b[0m\u001b[0m\n",
            "\u001b[0;32m/usr/local/lib/python3.11/dist-packages/googleapiclient/_helpers.py\u001b[0m in \u001b[0;36mpositional_wrapper\u001b[0;34m(*args, **kwargs)\u001b[0m\n\u001b[1;32m    129\u001b[0m                     \u001b[0mlogger\u001b[0m\u001b[0;34m.\u001b[0m\u001b[0mwarning\u001b[0m\u001b[0;34m(\u001b[0m\u001b[0mmessage\u001b[0m\u001b[0;34m)\u001b[0m\u001b[0;34m\u001b[0m\u001b[0;34m\u001b[0m\u001b[0m\n\u001b[0;32m--> 130\u001b[0;31m             \u001b[0;32mreturn\u001b[0m \u001b[0mwrapped\u001b[0m\u001b[0;34m(\u001b[0m\u001b[0;34m*\u001b[0m\u001b[0margs\u001b[0m\u001b[0;34m,\u001b[0m \u001b[0;34m**\u001b[0m\u001b[0mkwargs\u001b[0m\u001b[0;34m)\u001b[0m\u001b[0;34m\u001b[0m\u001b[0;34m\u001b[0m\u001b[0m\n\u001b[0m\u001b[1;32m    131\u001b[0m \u001b[0;34m\u001b[0m\u001b[0m\n",
            "\u001b[0;32m/usr/local/lib/python3.11/dist-packages/googleapiclient/http.py\u001b[0m in \u001b[0;36mexecute\u001b[0;34m(self, http, num_retries)\u001b[0m\n\u001b[1;32m    937\u001b[0m         \u001b[0;32mif\u001b[0m \u001b[0mresp\u001b[0m\u001b[0;34m.\u001b[0m\u001b[0mstatus\u001b[0m \u001b[0;34m>=\u001b[0m \u001b[0;36m300\u001b[0m\u001b[0;34m:\u001b[0m\u001b[0;34m\u001b[0m\u001b[0;34m\u001b[0m\u001b[0m\n\u001b[0;32m--> 938\u001b[0;31m             \u001b[0;32mraise\u001b[0m \u001b[0mHttpError\u001b[0m\u001b[0;34m(\u001b[0m\u001b[0mresp\u001b[0m\u001b[0;34m,\u001b[0m \u001b[0mcontent\u001b[0m\u001b[0;34m,\u001b[0m \u001b[0muri\u001b[0m\u001b[0;34m=\u001b[0m\u001b[0mself\u001b[0m\u001b[0;34m.\u001b[0m\u001b[0muri\u001b[0m\u001b[0;34m)\u001b[0m\u001b[0;34m\u001b[0m\u001b[0;34m\u001b[0m\u001b[0m\n\u001b[0m\u001b[1;32m    939\u001b[0m         \u001b[0;32mreturn\u001b[0m \u001b[0mself\u001b[0m\u001b[0;34m.\u001b[0m\u001b[0mpostproc\u001b[0m\u001b[0;34m(\u001b[0m\u001b[0mresp\u001b[0m\u001b[0;34m,\u001b[0m \u001b[0mcontent\u001b[0m\u001b[0;34m)\u001b[0m\u001b[0;34m\u001b[0m\u001b[0;34m\u001b[0m\u001b[0m\n",
            "\u001b[0;31mHttpError\u001b[0m: <HttpError 400 when requesting https://earthengine.googleapis.com/v1/projects/ee-alencarbdev/value:compute?prettyPrint=false&alt=json returned \"Image.normalizedDifference: No band named 'SR_B5'. Available band names: [].\". Details: \"Image.normalizedDifference: No band named 'SR_B5'. Available band names: [].\">",
            "\nDuring handling of the above exception, another exception occurred:\n",
            "\u001b[0;31mEEException\u001b[0m                               Traceback (most recent call last)",
            "\u001b[0;32m<ipython-input-10-859601101bb7>\u001b[0m in \u001b[0;36m<cell line: 0>\u001b[0;34m()\u001b[0m\n\u001b[0;32m----> 1\u001b[0;31m \u001b[0mprocessor\u001b[0m \u001b[0;34m=\u001b[0m \u001b[0mLandsatProcessor\u001b[0m\u001b[0;34m(\u001b[0m\u001b[0mregion_name\u001b[0m\u001b[0;34m=\u001b[0m\u001b[0;34m\"Distrito Federal\"\u001b[0m\u001b[0;34m,\u001b[0m \u001b[0myear\u001b[0m\u001b[0;34m=\u001b[0m\u001b[0;36m2025\u001b[0m\u001b[0;34m)\u001b[0m\u001b[0;34m\u001b[0m\u001b[0;34m\u001b[0m\u001b[0m\n\u001b[0m\u001b[1;32m      2\u001b[0m \u001b[0mmapa\u001b[0m \u001b[0;34m=\u001b[0m \u001b[0mprocessor\u001b[0m\u001b[0;34m.\u001b[0m\u001b[0mvisualize\u001b[0m\u001b[0;34m(\u001b[0m\u001b[0;34m)\u001b[0m\u001b[0;34m\u001b[0m\u001b[0;34m\u001b[0m\u001b[0m\n\u001b[1;32m      3\u001b[0m \u001b[0mmapa\u001b[0m\u001b[0;34m\u001b[0m\u001b[0;34m\u001b[0m\u001b[0m\n",
            "\u001b[0;32m<ipython-input-9-bb5be0c613c6>\u001b[0m in \u001b[0;36m__init__\u001b[0;34m(self, region_name, year)\u001b[0m\n\u001b[1;32m     11\u001b[0m         \u001b[0mself\u001b[0m\u001b[0;34m.\u001b[0m\u001b[0mimage\u001b[0m \u001b[0;34m=\u001b[0m \u001b[0mself\u001b[0m\u001b[0;34m.\u001b[0m\u001b[0m_process_image\u001b[0m\u001b[0;34m(\u001b[0m\u001b[0;34m)\u001b[0m\u001b[0;34m\u001b[0m\u001b[0;34m\u001b[0m\u001b[0m\n\u001b[1;32m     12\u001b[0m         \u001b[0mself\u001b[0m\u001b[0;34m.\u001b[0m\u001b[0mndvi\u001b[0m \u001b[0;34m=\u001b[0m \u001b[0mself\u001b[0m\u001b[0;34m.\u001b[0m\u001b[0mimage\u001b[0m\u001b[0;34m.\u001b[0m\u001b[0mnormalizedDifference\u001b[0m\u001b[0;34m(\u001b[0m\u001b[0;34m[\u001b[0m\u001b[0;34m'SR_B5'\u001b[0m\u001b[0;34m,\u001b[0m \u001b[0;34m'SR_B4'\u001b[0m\u001b[0;34m]\u001b[0m\u001b[0;34m)\u001b[0m\u001b[0;34m.\u001b[0m\u001b[0mrename\u001b[0m\u001b[0;34m(\u001b[0m\u001b[0;34m'NDVI'\u001b[0m\u001b[0;34m)\u001b[0m\u001b[0;34m\u001b[0m\u001b[0;34m\u001b[0m\u001b[0m\n\u001b[0;32m---> 13\u001b[0;31m         \u001b[0mself\u001b[0m\u001b[0;34m.\u001b[0m\u001b[0mndvi_min\u001b[0m\u001b[0;34m,\u001b[0m \u001b[0mself\u001b[0m\u001b[0;34m.\u001b[0m\u001b[0mndvi_max\u001b[0m \u001b[0;34m=\u001b[0m \u001b[0mself\u001b[0m\u001b[0;34m.\u001b[0m\u001b[0m_calculate_min_and_max_ndvi\u001b[0m\u001b[0;34m(\u001b[0m\u001b[0;34m)\u001b[0m\u001b[0;34m\u001b[0m\u001b[0;34m\u001b[0m\u001b[0m\n\u001b[0m\u001b[1;32m     14\u001b[0m         \u001b[0mself\u001b[0m\u001b[0;34m.\u001b[0m\u001b[0mthermal\u001b[0m \u001b[0;34m=\u001b[0m \u001b[0mself\u001b[0m\u001b[0;34m.\u001b[0m\u001b[0m_calculate_thermal_layer\u001b[0m\u001b[0;34m(\u001b[0m\u001b[0;34m)\u001b[0m\u001b[0;34m\u001b[0m\u001b[0;34m\u001b[0m\u001b[0m\n\u001b[1;32m     15\u001b[0m \u001b[0;34m\u001b[0m\u001b[0m\n",
            "\u001b[0;32m<ipython-input-9-bb5be0c613c6>\u001b[0m in \u001b[0;36m_calculate_min_and_max_ndvi\u001b[0;34m(self)\u001b[0m\n\u001b[1;32m     47\u001b[0m             \u001b[0mscale\u001b[0m\u001b[0;34m=\u001b[0m\u001b[0;36m30\u001b[0m\u001b[0;34m,\u001b[0m\u001b[0;34m\u001b[0m\u001b[0;34m\u001b[0m\u001b[0m\n\u001b[1;32m     48\u001b[0m             \u001b[0mmaxPixels\u001b[0m\u001b[0;34m=\u001b[0m\u001b[0;36m1e9\u001b[0m\u001b[0;34m\u001b[0m\u001b[0;34m\u001b[0m\u001b[0m\n\u001b[0;32m---> 49\u001b[0;31m         ).getInfo()\n\u001b[0m\u001b[1;32m     50\u001b[0m \u001b[0;34m\u001b[0m\u001b[0m\n\u001b[1;32m     51\u001b[0m         \u001b[0mprint\u001b[0m\u001b[0;34m(\u001b[0m\u001b[0;34m\"Minimum NDVI:\"\u001b[0m\u001b[0;34m,\u001b[0m \u001b[0mstats\u001b[0m\u001b[0;34m[\u001b[0m\u001b[0;34m'NDVI_min'\u001b[0m\u001b[0;34m]\u001b[0m\u001b[0;34m)\u001b[0m\u001b[0;34m\u001b[0m\u001b[0;34m\u001b[0m\u001b[0m\n",
            "\u001b[0;32m/usr/local/lib/python3.11/dist-packages/ee/computedobject.py\u001b[0m in \u001b[0;36mgetInfo\u001b[0;34m(self)\u001b[0m\n\u001b[1;32m    105\u001b[0m       \u001b[0mThe\u001b[0m \u001b[0mobject\u001b[0m \u001b[0mcan\u001b[0m \u001b[0mevaluate\u001b[0m \u001b[0mto\u001b[0m \u001b[0manything\u001b[0m\u001b[0;34m.\u001b[0m\u001b[0;34m\u001b[0m\u001b[0;34m\u001b[0m\u001b[0m\n\u001b[1;32m    106\u001b[0m     \"\"\"\n\u001b[0;32m--> 107\u001b[0;31m     \u001b[0;32mreturn\u001b[0m \u001b[0mdata\u001b[0m\u001b[0;34m.\u001b[0m\u001b[0mcomputeValue\u001b[0m\u001b[0;34m(\u001b[0m\u001b[0mself\u001b[0m\u001b[0;34m)\u001b[0m\u001b[0;34m\u001b[0m\u001b[0;34m\u001b[0m\u001b[0m\n\u001b[0m\u001b[1;32m    108\u001b[0m \u001b[0;34m\u001b[0m\u001b[0m\n\u001b[1;32m    109\u001b[0m   \u001b[0;32mdef\u001b[0m \u001b[0mencode\u001b[0m\u001b[0;34m(\u001b[0m\u001b[0mself\u001b[0m\u001b[0;34m,\u001b[0m \u001b[0mencoder\u001b[0m\u001b[0;34m:\u001b[0m \u001b[0mOptional\u001b[0m\u001b[0;34m[\u001b[0m\u001b[0mCallable\u001b[0m\u001b[0;34m[\u001b[0m\u001b[0;34m...\u001b[0m\u001b[0;34m,\u001b[0m \u001b[0mAny\u001b[0m\u001b[0;34m]\u001b[0m\u001b[0;34m]\u001b[0m\u001b[0;34m)\u001b[0m \u001b[0;34m->\u001b[0m \u001b[0mDict\u001b[0m\u001b[0;34m[\u001b[0m\u001b[0mstr\u001b[0m\u001b[0;34m,\u001b[0m \u001b[0mAny\u001b[0m\u001b[0;34m]\u001b[0m\u001b[0;34m:\u001b[0m\u001b[0;34m\u001b[0m\u001b[0;34m\u001b[0m\u001b[0m\n",
            "\u001b[0;32m/usr/local/lib/python3.11/dist-packages/ee/data.py\u001b[0m in \u001b[0;36mcomputeValue\u001b[0;34m(obj)\u001b[0m\n\u001b[1;32m   1126\u001b[0m   \u001b[0m_maybe_populate_workload_tag\u001b[0m\u001b[0;34m(\u001b[0m\u001b[0mbody\u001b[0m\u001b[0;34m)\u001b[0m\u001b[0;34m\u001b[0m\u001b[0;34m\u001b[0m\u001b[0m\n\u001b[1;32m   1127\u001b[0m \u001b[0;34m\u001b[0m\u001b[0m\n\u001b[0;32m-> 1128\u001b[0;31m   return _execute_cloud_call(\n\u001b[0m\u001b[1;32m   1129\u001b[0m       \u001b[0m_get_cloud_projects\u001b[0m\u001b[0;34m(\u001b[0m\u001b[0;34m)\u001b[0m\u001b[0;34m\u001b[0m\u001b[0;34m\u001b[0m\u001b[0m\n\u001b[1;32m   1130\u001b[0m       \u001b[0;34m.\u001b[0m\u001b[0mvalue\u001b[0m\u001b[0;34m(\u001b[0m\u001b[0;34m)\u001b[0m\u001b[0;34m\u001b[0m\u001b[0;34m\u001b[0m\u001b[0m\n",
            "\u001b[0;32m/usr/local/lib/python3.11/dist-packages/ee/data.py\u001b[0m in \u001b[0;36m_execute_cloud_call\u001b[0;34m(call, num_retries)\u001b[0m\n\u001b[1;32m    408\u001b[0m     \u001b[0;32mreturn\u001b[0m \u001b[0mcall\u001b[0m\u001b[0;34m.\u001b[0m\u001b[0mexecute\u001b[0m\u001b[0;34m(\u001b[0m\u001b[0mnum_retries\u001b[0m\u001b[0;34m=\u001b[0m\u001b[0mnum_retries\u001b[0m\u001b[0;34m)\u001b[0m\u001b[0;34m\u001b[0m\u001b[0;34m\u001b[0m\u001b[0m\n\u001b[1;32m    409\u001b[0m   \u001b[0;32mexcept\u001b[0m \u001b[0mgoogleapiclient\u001b[0m\u001b[0;34m.\u001b[0m\u001b[0merrors\u001b[0m\u001b[0;34m.\u001b[0m\u001b[0mHttpError\u001b[0m \u001b[0;32mas\u001b[0m \u001b[0me\u001b[0m\u001b[0;34m:\u001b[0m\u001b[0;34m\u001b[0m\u001b[0;34m\u001b[0m\u001b[0m\n\u001b[0;32m--> 410\u001b[0;31m     \u001b[0;32mraise\u001b[0m \u001b[0m_translate_cloud_exception\u001b[0m\u001b[0;34m(\u001b[0m\u001b[0me\u001b[0m\u001b[0;34m)\u001b[0m  \u001b[0;31m# pylint: disable=raise-missing-from\u001b[0m\u001b[0;34m\u001b[0m\u001b[0;34m\u001b[0m\u001b[0m\n\u001b[0m\u001b[1;32m    411\u001b[0m \u001b[0;34m\u001b[0m\u001b[0m\n\u001b[1;32m    412\u001b[0m \u001b[0;34m\u001b[0m\u001b[0m\n",
            "\u001b[0;31mEEException\u001b[0m: Image.normalizedDifference: No band named 'SR_B5'. Available band names: []."
          ]
        }
      ]
    },
    {
      "cell_type": "code",
      "source": [],
      "metadata": {
        "id": "GktFTKt4Bcw7"
      },
      "execution_count": null,
      "outputs": []
    },
    {
      "cell_type": "markdown",
      "source": [
        "# TESTES"
      ],
      "metadata": {
        "id": "Q0PHMKb8-0S-"
      }
    },
    {
      "cell_type": "code",
      "source": [
        "%pip install -q --upgrade altair\n",
        "import altair as alt"
      ],
      "metadata": {
        "id": "2PKNHzRm4S1E"
      },
      "execution_count": null,
      "outputs": []
    },
    {
      "cell_type": "code",
      "source": [
        "landsat_values = (ee.ImageCollection(\"LANDSAT/LC09/C02/T1_L2\")\n",
        "                  .filterDate('2023-01', '2023-02')\n",
        "                  .first())\n",
        "\n",
        "cities = ee.FeatureCollection([\n",
        "    ee.Feature(ee.Geometry.Point(-15.8, -47.9), {'city': 'DF'}),\n",
        "    ee.Feature(ee.Geometry.Point(-118.24, 34.05), {'city': 'Los Angeles'}),\n",
        "    ee.Feature(ee.Geometry.Point(103.83, 1.33), {'city': 'Singapore'}),\n",
        "])\n",
        "\n",
        "regions = landsat_values.reduceRegions(cities, ee.Reducer.first())\n",
        "\n",
        "city_climates_dataframe = ee.data.computeFeatures(\n",
        "    {'expression': regions, 'fileFormat': 'PANDAS_DATAFRAME'}\n",
        ")\n",
        "\n",
        "alt.Chart(city_climates_dataframe).mark_bar(size=100).encode(\n",
        "    alt.X('city:N', sort='y', axis=alt.Axis(labelAngle=0), title='City'),\n",
        "    alt.Y('temperature_2m:Q', title='Temperature (K)'),\n",
        "    tooltip=[\n",
        "        alt.Tooltip('city:N', title='City'),\n",
        "        alt.Tooltip('temperature_2m:Q', title='Temperature (K)'),\n",
        "    ],\n",
        ").properties(title='January 2023 temperature for selected cities', width=500)"
      ],
      "metadata": {
        "id": "eq2t8NkOsq1s"
      },
      "execution_count": null,
      "outputs": []
    },
    {
      "cell_type": "code",
      "source": [],
      "metadata": {
        "id": "VZuBGkh44tLz"
      },
      "execution_count": null,
      "outputs": []
    }
  ]
}